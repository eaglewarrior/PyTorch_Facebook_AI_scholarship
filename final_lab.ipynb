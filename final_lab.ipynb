{
  "cells": [
    {
      "metadata": {
        "_uuid": "fad15301713a8612de5d67ef93535de41d482a1b"
      },
      "cell_type": "markdown",
      "source": "# Developing an AI application\n\nGoing forward, AI algorithms will be incorporated into more and more everyday applications. For example, you might want to include an image classifier in a smart phone app. To do this, you'd use a deep learning model trained on hundreds of thousands of images as part of the overall application architecture. A large part of software development in the future will be using these types of models as common parts of applications. \n\nIn this project, you'll train an image classifier to recognize different species of flowers. You can imagine using something like this in a phone app that tells you the name of the flower your camera is looking at. In practice you'd train this classifier, then export it for use in your application. We'll be using [this dataset](http://www.robots.ox.ac.uk/~vgg/data/flowers/102/index.html) of 102 flower categories, you can see a few examples below. \n\n<img src='input/images/Flowers.png' width=500px>\n\nThe project is broken down into multiple steps:\n\n* Load and preprocess the image dataset\n* Train the image classifier on your dataset\n* Use the trained classifier to predict image content\n\nWe'll lead you through each part which you'll implement in Python.\n\nWhen you've completed this project, you'll have an application that can be trained on any set of labeled images. Here your network will be learning about flowers and end up as a command line application. But, what you do with your new skills depends on your imagination and effort in building a dataset. For example, imagine an app where you take a picture of a car, it tells you what the make and model is, then looks up information about it. Go build your own dataset and make something new.\n\nFirst up is importing the packages you'll need. It's good practice to keep all the imports at the beginning of your code. As you work through this notebook and find you need to import a package, make sure to add the import up here."
    },
    {
      "metadata": {
        "trusted": true,
        "_uuid": "05382025b424a81a4d7e18eac551f5cfedfcf4e2"
      },
      "cell_type": "code",
      "source": "# Imports here\n%matplotlib inline\n%config InlineBackend.figure_format = 'retina'\n\nimport time\nimport json\nimport copy\n\nimport matplotlib.pyplot as plt\nimport seaborn as sns\nimport numpy as np\nfrom PIL import Image\nfrom collections import OrderedDict\n\nimport torch\nfrom torch import nn, optim\nfrom torch.optim import lr_scheduler\nfrom torch.autograd import Variable\nfrom torchvision import datasets, models, transforms",
      "execution_count": null,
      "outputs": []
    },
    {
      "metadata": {
        "trusted": true,
        "_uuid": "4a261288c9bb1a0bb843ececa748f25203685a5a"
      },
      "cell_type": "code",
      "source": "# check if CUDA is available\ntrain_on_gpu = torch.cuda.is_available()\n\nif not train_on_gpu:\n    print('CUDA is not available.  Training on CPU ...')\nelse:\n    print('CUDA is available!  Training on GPU ...')",
      "execution_count": null,
      "outputs": []
    },
    {
      "metadata": {
        "_uuid": "b7ec6acac2e49759794453879b1844710f383ded"
      },
      "cell_type": "markdown",
      "source": "## Load the data\n\nHere you'll use `torchvision` to load the data ([documentation](http://pytorch.org/docs/0.3.0/torchvision/index.html)). You can [download the data here](https://s3.amazonaws.com/content.udacity-data.com/courses/nd188/flower_data.zip). The dataset is split into two parts, training and validation. For the training, you'll want to apply transformations such as random scaling, cropping, and flipping. This will help the network generalize leading to better performance. If you use a pre-trained network, you'll also need to make sure the input data is resized to 224x224 pixels as required by the networks.\n\nThe validation set is used to measure the model's performance on data it hasn't seen yet. For this you don't want any scaling or rotation transformations, but you'll need to resize then crop the images to the appropriate size.\n\nThe pre-trained networks available from `torchvision` were trained on the ImageNet dataset where each color channel was normalized separately. For both sets you'll need to normalize the means and standard deviations of the images to what the network expects. For the means, it's `[0.485, 0.456, 0.406]` and for the standard deviations `[0.229, 0.224, 0.225]`, calculated from the ImageNet images.  These values will shift each color channel to be centered at 0 and range from -1 to 1."
    },
    {
      "metadata": {
        "trusted": true,
        "_uuid": "9b7192282fcd8fa18867e51322f5455162bf836b"
      },
      "cell_type": "code",
      "source": "data_dir = '../input/flower_data/flower_data'\ntrain_dir = data_dir + '/train'\nvalid_dir = data_dir + '/valid'\ndirs = {'train': train_dir, \n        'valid': valid_dir }",
      "execution_count": null,
      "outputs": []
    },
    {
      "metadata": {
        "trusted": true,
        "_uuid": "1f5e7349ba03a740ed7e0dab534bf6f38a5ebaf5"
      },
      "cell_type": "code",
      "source": "# TODO: Define your transforms for the training and validation sets\ndata_transforms = {\n    'train': transforms.Compose([\n        transforms.RandomRotation(45),\n        transforms.RandomResizedCrop(224),\n        transforms.RandomHorizontalFlip(),\n        transforms.ToTensor(),\n        transforms.Normalize([0.485, 0.456, 0.406], \n                             [0.229, 0.224, 0.225])\n    ]),\n    'valid': transforms.Compose([\n        transforms.Resize(256),\n        transforms.CenterCrop(224),\n        transforms.ToTensor(),\n        transforms.Normalize([0.485, 0.456, 0.406], \n                             [0.229, 0.224, 0.225])\n    ]),\n}\n\n# TODO: Load the datasets with ImageFolder\nimage_datasets = {x: datasets.ImageFolder(dirs[x],   transform=data_transforms[x]) for x in ['train', 'valid']}\n# TODO: Using the image datasets and the trainforms, define the dataloaders\ndataloaders = {x: torch.utils.data.DataLoader(image_datasets[x], batch_size=32, shuffle=True) for x in ['train', 'valid']}\ndataset_sizes = {x: len(image_datasets[x]) \n                              for x in ['train', 'valid']}",
      "execution_count": null,
      "outputs": []
    },
    {
      "metadata": {
        "trusted": true,
        "_uuid": "82aa9e50550e21473b1021839750ac553895d951"
      },
      "cell_type": "code",
      "source": "class_names = image_datasets['train'].classes\nprint(len(class_names))",
      "execution_count": null,
      "outputs": []
    },
    {
      "metadata": {
        "_uuid": "5a06ccc1bb960232824af9da2f64fd86a8f5ac4e"
      },
      "cell_type": "markdown",
      "source": "### Label mapping\n\nYou'll also need to load in a mapping from category label to category name. You can find this in the file `cat_to_name.json`. It's a JSON object which you can read in with the [`json` module](https://docs.python.org/2/library/json.html). This will give you a dictionary mapping the integer encoded categories to the actual names of the flowers."
    },
    {
      "metadata": {
        "trusted": true,
        "_uuid": "63ba53b7443d0b26250e6f94b14ac73e89545724"
      },
      "cell_type": "code",
      "source": "import json\n\nwith open('../input/cat_to_name.json', 'r') as f:\n    label_map = json.load(f)",
      "execution_count": null,
      "outputs": []
    },
    {
      "metadata": {
        "_uuid": "f1da26e1794e68b607498b49bca0b5a70ee633bf"
      },
      "cell_type": "markdown",
      "source": "# Building and training the classifier\n\nNow that the data is ready, it's time to build and train the classifier. As usual, you should use one of the pretrained models from `torchvision.models` to get the image features. Build and train a new feed-forward classifier using those features.\n\nWe're going to leave this part up to you. If you want to talk through it with someone, chat with your fellow students! You can also ask questions on the forums or join the instructors in office hours.\n\nRefer to [the rubric](https://review.udacity.com/#!/rubrics/1663/view) for guidance on successfully completing this section. Things you'll need to do:\n\n* Load a [pre-trained network](http://pytorch.org/docs/master/torchvision/models.html) (If you need a starting point, the VGG networks work great and are straightforward to use)\n* Define a new, untrained feed-forward network as a classifier, using ReLU activations and dropout\n* Train the classifier layers using backpropagation using the pre-trained network to get the features\n* Track the loss and accuracy on the validation set to determine the best hyperparameters\n\nWe've left a cell open for you below, but use as many as you need. Our advice is to break the problem up into smaller parts you can run separately. Check that each part is doing what you expect, then move on to the next. You'll likely find that as you work through each part, you'll need to go back and modify your previous code. This is totally normal!\n\nWhen training make sure you're updating only the weights of the feed-forward network. You should be able to get the validation accuracy above 70% if you build everything right. Make sure to try different hyperparameters (learning rate, units in the classifier, epochs, etc) to find the best model. Save those hyperparameters to use as default values in the next part of the project."
    },
    {
      "metadata": {
        "trusted": true,
        "_uuid": "8bcce97a21147acf3da3c60e3bbe9bbbcaf1f094"
      },
      "cell_type": "code",
      "source": "# TODO: Build and train your network\nimport torchvision.models as models\nmodel = models.resnet152(pretrained=True)",
      "execution_count": null,
      "outputs": []
    },
    {
      "metadata": {
        "trusted": true,
        "_uuid": "9e1ae578872b9a9ff0ada55158369ed8f6365f7b"
      },
      "cell_type": "code",
      "source": "print(torch.__version__)",
      "execution_count": null,
      "outputs": []
    },
    {
      "metadata": {
        "trusted": true,
        "_uuid": "8634df3a301af934a9f64b47a0e395f3128d4e3e"
      },
      "cell_type": "code",
      "source": "model",
      "execution_count": null,
      "outputs": []
    },
    {
      "metadata": {
        "trusted": true,
        "_uuid": "6b3f156887cd8f717a1ce12105a9eaaa91901a34"
      },
      "cell_type": "code",
      "source": "for param in model.parameters():\n    param.requires_grad = False",
      "execution_count": null,
      "outputs": []
    },
    {
      "metadata": {
        "trusted": true,
        "_uuid": "27b561c35de080ba6f07ba9146a51a1f9ebf3b58"
      },
      "cell_type": "code",
      "source": "num_ftrs = model.fc.in_features\n#model.fc = nn.Linear(num_ftrs, 102)\n\nclassifier = nn.Sequential(OrderedDict([\n                          ('fc1', nn.Linear(2048, 1000)),\n                          ('relu', nn.ReLU()),\n                          ('fc2', nn.Linear(1000, 102)),\n                          ('output', nn.LogSoftmax(dim=1))\n                          ]))\n\nmodel.fc = classifier",
      "execution_count": null,
      "outputs": []
    },
    {
      "metadata": {
        "trusted": true,
        "_uuid": "7c7205d048476e6408414041256181ab77812196"
      },
      "cell_type": "code",
      "source": "num_ftrs",
      "execution_count": null,
      "outputs": []
    },
    {
      "metadata": {
        "trusted": true,
        "_uuid": "5b66a637c2e1a6e466ded7b0ba03daf6fd3829f6"
      },
      "cell_type": "code",
      "source": "def train_model(model, criterion, optimizer, scheduler,    \n                                      num_epochs=25, device='cuda'):\n\n    since = time.time()\n\n    best_model_wts = copy.deepcopy(model.state_dict())\n    best_acc = 0.0\n\n    for epoch in range(num_epochs):\n        print('Epoch {}/{}'.format(epoch, num_epochs - 1))\n        print('-' * 10)\n\n        # Each epoch has a training and validation phase\n        for phase in ['train', 'valid']:\n            if phase == 'train':\n                scheduler.step()\n                model.train()  # Set model to training mode\n            else:\n                model.eval()   # Set model to evaluate mode\n\n            running_loss = 0.0\n            running_corrects = 0\n\n            # Iterate over data.\n            for inputs, labels in dataloaders[phase]:\n                inputs = inputs.to(device)\n                labels = labels.to(device)\n\n                # zero the parameter gradients\n                optimizer.zero_grad()\n\n                # forward\n                # track history if only in train\n                with torch.set_grad_enabled(phase == 'train'):\n                    outputs = model(inputs)\n                    _, preds = torch.max(outputs, 1)\n                    loss = criterion(outputs, labels)\n\n                    # backward + optimize only if in training phase\n                    if phase == 'train':\n                        loss.backward()\n                        optimizer.step()\n\n                # statistics\n                running_loss += loss.item() * inputs.size(0)\n                running_corrects += torch.sum(preds == labels.data)\n\n            epoch_loss = running_loss / dataset_sizes[phase]\n            epoch_acc = running_corrects.double() / dataset_sizes[phase]\n\n            print('{} Loss: {:.4f} Acc: {:.4f}'.format(\n                phase, epoch_loss, epoch_acc))\n\n            # deep copy the model\n            if phase == 'valid' and epoch_acc > best_acc:\n                best_acc = epoch_acc\n                best_model_wts = copy.deepcopy(model.state_dict())\n\n        print()\n\n    time_elapsed = time.time() - since\n    print('Training complete in {:.0f}m {:.0f}s'.format(\n        time_elapsed // 60, time_elapsed % 60))\n    print('Best val Acc: {:4f}'.format(best_acc))\n\n    # load best model weights\n    model.load_state_dict(best_model_wts)\n    return model\nif train_on_gpu:\n    model.cuda()",
      "execution_count": null,
      "outputs": []
    },
    {
      "metadata": {
        "trusted": true,
        "_uuid": "4017a4e79372da4ee8b2cc4c8db5c7e18ba70395"
      },
      "cell_type": "code",
      "source": "# Criteria NLLLoss which is recommended with Softmax final layer\ncriteria = nn.NLLLoss()\n\n# Observe that all parameters are being optimized\noptimizer = optim.Adam(model.parameters(), lr=0.001)\n\n# Decay LR by a factor of 0.1 every 4 epochs\nsched = lr_scheduler.StepLR(optimizer, step_size=4, gamma=0.1)\n\n\n# Number of epochs\neps=15",
      "execution_count": null,
      "outputs": []
    },
    {
      "metadata": {
        "trusted": true,
        "_uuid": "fd2cba56cbb0f1e12cef6e8527d203c1e822b3e1"
      },
      "cell_type": "code",
      "source": "model_ft = train_model(model, criteria, optimizer, sched, eps, 'cuda')",
      "execution_count": null,
      "outputs": []
    },
    {
      "metadata": {
        "_uuid": "f461eb9af8b00ee3828d410bbe59073351981228"
      },
      "cell_type": "markdown",
      "source": "## Save the checkpoint\n\nNow that your network is trained, save the model so you can load it later for making predictions. You probably want to save other things such as the mapping of classes to indices which you get from one of the image datasets: `image_datasets['train'].class_to_idx`. You can attach this to the model as an attribute which makes inference easier later on.\n\n```model.class_to_idx = image_datasets['train'].class_to_idx```\n\nRemember that you'll want to completely rebuild the model later so you can use it for inference. Make sure to include any information you need in the checkpoint. If you want to load the model and keep training, you'll want to save the number of epochs as well as the optimizer state, `optimizer.state_dict`. You'll likely want to use this trained model in the next part of the project, so best to save it now."
    },
    {
      "metadata": {
        "trusted": true,
        "_uuid": "de3f0c3c6b0853605a8c94039d9c62599c5a0d3d"
      },
      "cell_type": "code",
      "source": "def calc_accuracy(model, data, cuda=False):\n    model.eval()\n    model.to(device='cuda')    \n    \n    with torch.no_grad():\n        for idx, (inputs, labels) in enumerate(dataloaders[data]):\n\n            if cuda:\n                inputs, labels = inputs.cuda(), labels.cuda()\n\n            # obtain the outputs from the model\n            outputs = model.forward(inputs)\n\n            # max provides the (maximum probability, max value)\n            _, predicted = outputs.max(dim=1)\n\n            # check the \n            if idx == 0:\n                print(predicted) #the predicted class\n                print(torch.exp(_)) # the predicted probability\n            equals = predicted == labels.data\n\n            if idx == 0:\n                print(equals)\n\n            print(equals.float().mean())",
      "execution_count": null,
      "outputs": []
    },
    {
      "metadata": {
        "trusted": true,
        "_uuid": "05f75cf6534d29f10d19c14bbed4c71cab89de4d"
      },
      "cell_type": "code",
      "source": "calc_accuracy(model, 'valid', cuda=True)",
      "execution_count": null,
      "outputs": []
    },
    {
      "metadata": {
        "trusted": true,
        "_uuid": "c5e16c56f46e8b8ec20bc942206b83399923b734"
      },
      "cell_type": "code",
      "source": "# TODO: Save the checkpoint \nmodel.class_to_idx = image_datasets['train'].class_to_idx\nmodel.cpu()\ntorch.save({'arch': 'resnet152',\n            'state_dict': model.state_dict(), \n            'class_to_idx': model.class_to_idx}, \n            'classifier1.pth')",
      "execution_count": null,
      "outputs": []
    },
    {
      "metadata": {
        "_uuid": "1bcd22b618e6a81ed3dafb4de564c7e6b55c1e25"
      },
      "cell_type": "markdown",
      "source": "## Loading the checkpoint\n\nAt this point it's good to write a function that can load a checkpoint and rebuild the model. That way you can come back to this project and keep working on it without having to retrain the network."
    },
    {
      "metadata": {
        "trusted": true,
        "_uuid": "e2e7668c3f96ab9c6a92403edbc7e8c44184444c"
      },
      "cell_type": "code",
      "source": "# TODO: Write a function that loads a checkpoint and rebuilds the model\ndef load_model(checkpoint_path):\n    chpt = torch.load(checkpoint_path)\n    \n    if chpt['arch'] == 'resnet152':\n        model = models.resnet152(pretrained=True)\n        for param in model.parameters():\n            param.requires_grad = False\n\n    else:\n        print(\"Sorry base architecture note recognized\")\n        \n    \n    model.class_to_idx = chpt['class_to_idx']\n    \n    # Create the classifier\n    classifier = nn.Sequential(OrderedDict([\n                          ('fc1', nn.Linear(2048, 1000)),\n                          ('relu', nn.ReLU()),\n                          ('fc2', nn.Linear(1000, 102)),\n                          ('output', nn.LogSoftmax(dim=1))\n                          ]))\n\n    # Put the classifier on the pretrained network\n    model.fc= classifier\n    \n    model.load_state_dict(chpt['state_dict'])\n    \n    return model\n",
      "execution_count": null,
      "outputs": []
    },
    {
      "metadata": {
        "trusted": true,
        "_uuid": "1d33ce64796a7e4cf71f9d89bb287b8b6b5f979c"
      },
      "cell_type": "code",
      "source": "model = load_model('classifier1.pth')\ncalc_accuracy(model, 'valid', True)",
      "execution_count": null,
      "outputs": []
    },
    {
      "metadata": {
        "_uuid": "48ff102ed3c9f1ba86c751bd85e0b41940b7580b"
      },
      "cell_type": "markdown",
      "source": "# Inference for classification\n\nNow you'll write a function to use a trained network for inference. That is, you'll pass an image into the network and predict the class of the flower in the image. Write a function called `predict` that takes an image and a model, then returns the top $K$ most likely classes along with the probabilities. It should look like \n\n```python\nprobs, classes = predict(image_path, model)\nprint(probs)\nprint(classes)\n> [ 0.01558163  0.01541934  0.01452626  0.01443549  0.01407339]\n> ['70', '3', '45', '62', '55']\n```\n\nFirst you'll need to handle processing the input image such that it can be used in your network. \n\n## Image Preprocessing\n\nYou'll want to use `PIL` to load the image ([documentation](https://pillow.readthedocs.io/en/latest/reference/Image.html)). It's best to write a function that preprocesses the image so it can be used as input for the model. This function should process the images in the same manner used for training. \n\nFirst, resize the images where the shortest side is 256 pixels, keeping the aspect ratio. This can be done with the [`thumbnail`](http://pillow.readthedocs.io/en/3.1.x/reference/Image.html#PIL.Image.Image.thumbnail) or [`resize`](http://pillow.readthedocs.io/en/3.1.x/reference/Image.html#PIL.Image.Image.thumbnail) methods. Then you'll need to crop out the center 224x224 portion of the image.\n\nColor channels of images are typically encoded as integers 0-255, but the model expected floats 0-1. You'll need to convert the values. It's easiest with a Numpy array, which you can get from a PIL image like so `np_image = np.array(pil_image)`.\n\nAs before, the network expects the images to be normalized in a specific way. For the means, it's `[0.485, 0.456, 0.406]` and for the standard deviations `[0.229, 0.224, 0.225]`. You'll want to subtract the means from each color channel, then divide by the standard deviation. \n\nAnd finally, PyTorch expects the color channel to be the first dimension but it's the third dimension in the PIL image and Numpy array. You can reorder dimensions using [`ndarray.transpose`](https://docs.scipy.org/doc/numpy-1.13.0/reference/generated/numpy.ndarray.transpose.html). The color channel needs to be first and retain the order of the other two dimensions."
    },
    {
      "metadata": {
        "trusted": true,
        "_uuid": "17279482786a604615ca377327651c0d833a0c76"
      },
      "cell_type": "code",
      "source": "def process_image(image_path):\n    ''' \n    Scales, crops, and normalizes a PIL image for a PyTorch       \n    model, returns an Numpy array\n    '''\n    # Open the image\n    from PIL import Image\n    img = Image.open(image_path)\n\n    # Resize\n    if img.size[0] > img.size[1]:\n        img.thumbnail((10000, 256))\n    else:\n        img.thumbnail((256, 10000))\n\n    # Crop \n    left_margin = (img.width-224)/2\n    bottom_margin = (img.height-224)/2\n    right_margin = left_margin + 224\n    top_margin = bottom_margin + 224\n\n    img = img.crop((left_margin, bottom_margin, right_margin,   \n                      top_margin))\n    # Normalize\n    img = np.array(img)/255\n    mean = np.array([0.485, 0.456, 0.406]) #provided mean\n    std = np.array([0.229, 0.224, 0.225]) #provided std\n    img = (img - mean)/std\n    \n    # Move color channels to first dimension as expected by PyTorch\n    img = img.transpose((2, 0, 1))\n    \n    return img",
      "execution_count": null,
      "outputs": []
    },
    {
      "metadata": {
        "_uuid": "32d2e8e83d714f15dd80549a4b243524167abb47"
      },
      "cell_type": "markdown",
      "source": "To check your work, the function below converts a PyTorch tensor and displays it in the notebook. If your `process_image` function works, running the output through this function should return the original image (except for the cropped out portions)."
    },
    {
      "metadata": {
        "trusted": true,
        "_uuid": "2940226413073888d7c5d52bd71ac84784848b00"
      },
      "cell_type": "code",
      "source": "def imshow(image, ax=None, title=None):\n    \"\"\"Imshow for Tensor.\"\"\"\n    if ax is None:\n        fig, ax = plt.subplots()\n    \n    # PyTorch tensors assume the color channel is the first dimension\n    # but matplotlib assumes is the third dimension\n    image = image.numpy().transpose((1, 2, 0))\n    \n    # Undo preprocessing\n    mean = np.array([0.485, 0.456, 0.406])\n    std = np.array([0.229, 0.224, 0.225])\n    image = std * image + mean\n    \n    # Image needs to be clipped between 0 and 1 or it looks like noise when displayed\n    image = np.clip(image, 0, 1)\n    \n    ax.imshow(image)\n    \n    return ax",
      "execution_count": null,
      "outputs": []
    },
    {
      "metadata": {
        "_uuid": "83f0cc439ca2e6f8b0a2037448e2e1df69d6fe46"
      },
      "cell_type": "markdown",
      "source": "## Class Prediction\n\nOnce you can get images in the correct format, it's time to write a function for making predictions with your model. A common practice is to predict the top 5 or so (usually called top-$K$) most probable classes. You'll want to calculate the class probabilities then find the $K$ largest values.\n\nTo get the top $K$ largest values in a tensor use [`x.topk(k)`](http://pytorch.org/docs/master/torch.html#torch.topk). This method returns both the highest `k` probabilities and the indices of those probabilities corresponding to the classes. You need to convert from these indices to the actual class labels using `class_to_idx` which hopefully you added to the model or from an `ImageFolder` you used to load the data ([see here](#Save-the-checkpoint)). Make sure to invert the dictionary so you get a mapping from index to class as well.\n\nAgain, this method should take a path to an image and a model checkpoint, then return the probabilities and classes.\n\n```python\nprobs, classes = predict(image_path, model)\nprint(probs)\nprint(classes)\n> [ 0.01558163  0.01541934  0.01452626  0.01443549  0.01407339]\n> ['70', '3', '45', '62', '55']\n```"
    },
    {
      "metadata": {
        "trusted": true,
        "_uuid": "02a2599057f254cbb81f52a24c91be9238008352"
      },
      "cell_type": "code",
      "source": "def predict(image_path, model, top_num=5):\n    # Process image\n    img = process_image(image_path)\n    \n    # Numpy -> Tensor\n    image_tensor = torch.from_numpy(img).type(torch.FloatTensor)\n\n    # Add batch of size 1 to image\n    model_input = image_tensor.unsqueeze(0)\n    \n    # Probs\n    probs = torch.exp(model.forward(model_input))\n    \n    # Top probs\n    top_probs, top_labs = probs.topk(top_num)\n    top_probs = top_probs.detach().numpy().tolist()[0] \n    top_labs = top_labs.detach().numpy().tolist()[0]\n    \n    # Convert indices to classes\n    idx_to_class = {val: key for key, val in    \n                                      model.class_to_idx.items()}\n\n    top_labels = [idx_to_class[lab] for lab in top_labs]\n    top_flowers = [label_map[idx_to_class[lab]] for lab in top_labs]\n\n    return top_probs, top_labels, top_flowers",
      "execution_count": null,
      "outputs": []
    },
    {
      "metadata": {
        "_uuid": "9cad017ae83bb4280eb8c9a2c6b1a31096a6e086"
      },
      "cell_type": "markdown",
      "source": "## Sanity Checking\n\nNow that you can use a trained model for predictions, check to make sure it makes sense. Even if the validation accuracy is high, it's always good to check that there aren't obvious bugs. Use `matplotlib` to plot the probabilities for the top 5 classes as a bar graph, along with the input image. It should look like this:\n\n<img src='assets/inference_example.png' width=300px>\n\nYou can convert from the class integer encoding to actual flower names with the `cat_to_name.json` file (should have been loaded earlier in the notebook). To show a PyTorch tensor as an image, use the `imshow` function defined above."
    },
    {
      "metadata": {
        "trusted": true,
        "_uuid": "a44fde0479f49328b6cfb2a2e050900c0b56c3a3"
      },
      "cell_type": "code",
      "source": "def plot_solution(image_path, model):\n    # Set up plot\n    plt.figure(figsize = (6,10))\n    ax = plt.subplot(2,1,1)\n\n    # Set up title\n    flower_num = image_path.split('/')[1]\n    title_ = label_map[flower_num]\n\n    # Plot flower\n    img = process_image(image_path)\n    imshow(img, ax, title = title_);\n\n    # Make prediction\n    probs, labs, flowers = predict(image_path, model) \n\n    # Plot bar chart\n    plt.subplot(2,1,2)\n    sns.barplot(x=probs, y=flowers, color=sns.color_palette()[0]);\n    plt.show()",
      "execution_count": null,
      "outputs": []
    },
    {
      "metadata": {
        "trusted": true,
        "_uuid": "b10140e4e3a00082a52dd816f1a218aec046873c"
      },
      "cell_type": "code",
      "source": "image_path = '../input/flower_data/flower_data/train/1/image_06741.jpg'\nplot_solution(image_path, model)",
      "execution_count": null,
      "outputs": []
    },
    {
      "metadata": {
        "trusted": true,
        "_uuid": "8abe49a631f1c819533a79f9df919877f916c31d"
      },
      "cell_type": "code",
      "source": "import os\nprint(os.listdir(\"../input/flower_data/flower_data/train/1\"))",
      "execution_count": null,
      "outputs": []
    }
  ],
  "metadata": {
    "kernelspec": {
      "display_name": "Python 3",
      "language": "python",
      "name": "python3"
    },
    "language_info": {
      "name": "python",
      "version": "3.6.6",
      "mimetype": "text/x-python",
      "codemirror_mode": {
        "name": "ipython",
        "version": 3
      },
      "pygments_lexer": "ipython3",
      "nbconvert_exporter": "python",
      "file_extension": ".py"
    }
  },
  "nbformat": 4,
  "nbformat_minor": 1
}